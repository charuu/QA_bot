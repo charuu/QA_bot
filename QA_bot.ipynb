{
 "cells": [
  {
   "cell_type": "code",
   "execution_count": 1,
   "id": "34b4fab7",
   "metadata": {},
   "outputs": [],
   "source": [
    "%%capture\n",
    "!pip install --force-reinstall --no-cache-dir tenacity --user\n",
    "!pip install \"ibm-watsonx-ai==1.0.4\" --user\n",
    "!pip install \"ibm-watson-machine-learning==1.0.357\" --user\n",
    "!pip install \"langchain-ibm==0.1.7\" --user\n",
    "!pip install \"langchain-community==0.2.1\" --user\n",
    "!pip install \"langchain-experimental==0.0.59\" --user\n",
    "!pip install \"langchainhub==0.1.17\" --user\n",
    "!pip install \"langchain==0.2.1\" --user\n",
    "!pip install \"pypdf==4.2.0\" --user\n",
    "!pip install \"chromadb == 0.4.24\" --user"
   ]
  },
  {
   "cell_type": "code",
   "execution_count": null,
   "id": "bce93ca7",
   "metadata": {},
   "outputs": [],
   "source": [
    "def warn(*args, **kwargs):\n",
    "    pass\n",
    "import warnings\n",
    "warnings.warn = warn\n",
    "warnings.filterwarnings('ignore')\n",
    "\n",
    "from ibm_watsonx_ai.foundation_models import ModelInference\n",
    "from ibm_watsonx_ai.metanames import GenTextParamsMetaNames as GenParams\n",
    "from ibm_watsonx_ai.foundation_models.utils.enums import ModelTypes\n",
    "from ibm_watson_machine_learning.foundation_models.extensions.langchain import WatsonxLLM"
   ]
  },
  {
   "cell_type": "code",
   "execution_count": null,
   "id": "5cab6955",
   "metadata": {},
   "outputs": [],
   "source": [
    "model_id = 'ibm/granite-3-2-8b-instruct' \n",
    "\n",
    "parameters = {\n",
    "    GenParams.MAX_NEW_TOKENS: 256, \n",
    "    GenParams.TEMPERATURE: 0.5, \n",
    "}\n",
    "\n",
    "credentials = {\n",
    "    \"url\": \"https://us-south.ml.cloud.ibm.com\"\n",
    "}\n",
    "\n",
    "project_id = \"skills-network\"\n",
    "\n",
    "model = ModelInference(\n",
    "    model_id=model_id,\n",
    "    params=parameters,\n",
    "    credentials=credentials,\n",
    "    project_id=project_id\n",
    ")"
   ]
  },
  {
   "cell_type": "code",
   "execution_count": null,
   "id": "e6f98108",
   "metadata": {},
   "outputs": [],
   "source": [
    "msg = model.generate(\"In today's sales meeting, we \")\n",
    "print(msg['results'][0]['generated_text'])"
   ]
  },
  {
   "cell_type": "code",
   "execution_count": null,
   "id": "a53093af",
   "metadata": {},
   "outputs": [],
   "source": [
    "granite_llm = WatsonxLLM(model = model)"
   ]
  },
  {
   "cell_type": "code",
   "execution_count": null,
   "id": "e88deebf",
   "metadata": {},
   "outputs": [],
   "source": []
  },
  {
   "cell_type": "code",
   "execution_count": null,
   "id": "778ecd77",
   "metadata": {},
   "outputs": [],
   "source": []
  }
 ],
 "metadata": {
  "kernelspec": {
   "display_name": "Python 3",
   "language": "python",
   "name": "python3"
  },
  "language_info": {
   "codemirror_mode": {
    "name": "ipython",
    "version": 3
   },
   "file_extension": ".py",
   "mimetype": "text/x-python",
   "name": "python",
   "nbconvert_exporter": "python",
   "pygments_lexer": "ipython3",
   "version": "3.12.10"
  }
 },
 "nbformat": 4,
 "nbformat_minor": 5
}
